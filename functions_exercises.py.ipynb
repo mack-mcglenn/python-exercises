{
 "cells": [
  {
   "cell_type": "code",
   "execution_count": 38,
   "id": "933bb1b2",
   "metadata": {},
   "outputs": [],
   "source": [
    "# Define a function named is_two. It should accept one input \n",
    "# and return True if the passed input is either the number or the string 2, False otherwise.\n",
    "\n",
    "def is_two(x):\n",
    "    if x == 2 or x =='2':\n",
    "        return True\n",
    "    else:\n",
    "        return False\n",
    "#or\n",
    "\n",
    "def is_two2(x):\n",
    "    return x == 2 or x == '2'"
   ]
  },
  {
   "cell_type": "code",
   "execution_count": 55,
   "id": "ad4ef0c7",
   "metadata": {},
   "outputs": [
    {
     "data": {
      "text/plain": [
       "False"
      ]
     },
     "execution_count": 55,
     "metadata": {},
     "output_type": "execute_result"
    }
   ],
   "source": [
    "is_two(1)"
   ]
  },
  {
   "cell_type": "code",
   "execution_count": 56,
   "id": "a1a6c329",
   "metadata": {},
   "outputs": [
    {
     "data": {
      "text/plain": [
       "True"
      ]
     },
     "execution_count": 56,
     "metadata": {},
     "output_type": "execute_result"
    }
   ],
   "source": [
    "is_two('2')"
   ]
  },
  {
   "cell_type": "code",
   "execution_count": 338,
   "id": "6005562e",
   "metadata": {},
   "outputs": [],
   "source": [
    "# 2. Define a function named is_vowel. It should return True if the passed string is a vowel, False otherwise.\n",
    "\n",
    "def is_vowel(x):\n",
    "    vows = ['a','e','i','o','u','A','E','I','O','U']\n",
    "    if x in vows:\n",
    "        return True\n",
    "    else:\n",
    "        return False\n",
    "#or \n",
    "def is_vowel2(x):\n",
    "    return x in [aeiouAEIOU]\n"
   ]
  },
  {
   "cell_type": "code",
   "execution_count": 339,
   "id": "8b56bbc4",
   "metadata": {},
   "outputs": [
    {
     "data": {
      "text/plain": [
       "False"
      ]
     },
     "execution_count": 339,
     "metadata": {},
     "output_type": "execute_result"
    }
   ],
   "source": [
    "is_vowel('Strumming my pain with his fingers, singing my lIfe with his words')"
   ]
  },
  {
   "cell_type": "code",
   "execution_count": 324,
   "id": "7cfa3192",
   "metadata": {},
   "outputs": [],
   "source": [
    "# 3. Define a function named is_consonant. It should return True if the passed string\n",
    "# is a consonant, False otherwise. Use your is_vowel function to accomplish this.\n",
    "\n",
    "def is_consonant(x):\n",
    "    if is_vowel(x) == False and len(x) == 1 and x.isalpha():\n",
    "        return True\n",
    "    else:\n",
    "        return False\n"
   ]
  },
  {
   "cell_type": "code",
   "execution_count": 340,
   "id": "59f76028",
   "metadata": {},
   "outputs": [
    {
     "data": {
      "text/plain": [
       "True"
      ]
     },
     "execution_count": 340,
     "metadata": {},
     "output_type": "execute_result"
    }
   ],
   "source": [
    "is_consonant('L')"
   ]
  },
  {
   "cell_type": "code",
   "execution_count": 180,
   "id": "40a0de40",
   "metadata": {},
   "outputs": [],
   "source": [
    "# 4. Define a function that accepts a string that is a word. \n",
    "# The function should capitalize the first letter of the word if the word starts with a consonant.\n",
    "\n",
    "#This didn't work:\n",
    "#def cap_cons(string):\n",
    " #  x = txt.capitalize()\n",
    "  #  if cap_cons(string[0] == cons:\n",
    "   #     return x  \n",
    "    #else:\n",
    "     #   return False\n",
    "\n",
    "def cap_cons(x):\n",
    "    if is_consonant(x[0]):\n",
    "        x = x.capitalize()\n",
    "    return x\n",
    "\n",
    "   "
   ]
  },
  {
   "cell_type": "code",
   "execution_count": 181,
   "id": "856db070",
   "metadata": {},
   "outputs": [
    {
     "data": {
      "text/plain": [
       "'Welcome to the black parade.'"
      ]
     },
     "execution_count": 181,
     "metadata": {},
     "output_type": "execute_result"
    }
   ],
   "source": [
    "cap_cons('welcome to the black parade.')"
   ]
  },
  {
   "cell_type": "code",
   "execution_count": 211,
   "id": "5d3fbe5a",
   "metadata": {},
   "outputs": [],
   "source": [
    "# 5. Define a function named calculate_tip. \n",
    "# It should accept a tip percentage (a number between 0 and 1) and the bill total, and return the amount to tip.\n",
    "\n",
    "def calculate_tip(total, percent):\n",
    "    tip = (total * percent)\n",
    "    return tip"
   ]
  },
  {
   "cell_type": "code",
   "execution_count": 213,
   "id": "5e84d51a",
   "metadata": {},
   "outputs": [
    {
     "data": {
      "text/plain": [
       "11.25"
      ]
     },
     "execution_count": 213,
     "metadata": {},
     "output_type": "execute_result"
    }
   ],
   "source": [
    "calculate_tip(45, .25)"
   ]
  },
  {
   "cell_type": "code",
   "execution_count": 216,
   "id": "47f79a24",
   "metadata": {},
   "outputs": [],
   "source": [
    "# 6. Define a function named apply_discount. \n",
    "# It should accept a original price, and a discount percentage, and return the price after the discount is applied.\n",
    "\n",
    "def apply_discount(price, discount):\n",
    "    distotal = (price - (price * discount))\n",
    "    return distotal"
   ]
  },
  {
   "cell_type": "code",
   "execution_count": 343,
   "id": "d9043e0c",
   "metadata": {},
   "outputs": [
    {
     "data": {
      "text/plain": [
       "25.5"
      ]
     },
     "execution_count": 343,
     "metadata": {},
     "output_type": "execute_result"
    }
   ],
   "source": [
    "apply_discount(30, .15)"
   ]
  },
  {
   "cell_type": "code",
   "execution_count": 258,
   "id": "0584d5e0",
   "metadata": {},
   "outputs": [],
   "source": [
    "# 7. Define a function named handle_commas. \n",
    "# It should accept a string that is a number that contains commas in it as input, and return a number as output.\n",
    "\n",
    "def handle_commas(string):\n",
    "    string = string.replace(',','')\n",
    "    return int(string)"
   ]
  },
  {
   "cell_type": "code",
   "execution_count": 259,
   "id": "5fec096d",
   "metadata": {},
   "outputs": [
    {
     "data": {
      "text/plain": [
       "1500185660"
      ]
     },
     "execution_count": 259,
     "metadata": {},
     "output_type": "execute_result"
    }
   ],
   "source": [
    "handle_commas('1,500,185,660')"
   ]
  },
  {
   "cell_type": "code",
   "execution_count": 354,
   "id": "d4f19c6a",
   "metadata": {},
   "outputs": [
    {
     "ename": "SyntaxError",
     "evalue": "invalid syntax (766147837.py, line 8)",
     "output_type": "error",
     "traceback": [
      "\u001b[0;36m  File \u001b[0;32m\"/var/folders/3f/gcykrn_x5kj_vxldk0lkx7p00000gn/T/ipykernel_60461/766147837.py\"\u001b[0;36m, line \u001b[0;32m8\u001b[0m\n\u001b[0;31m    else if get_letter_grade >= 80:\u001b[0m\n\u001b[0m    ^\u001b[0m\n\u001b[0;31mSyntaxError\u001b[0m\u001b[0;31m:\u001b[0m invalid syntax\n"
     ]
    }
   ],
   "source": [
    "# 8.Define a function named get_letter_grade. \n",
    "# It should accept a number and return the letter grade associated with that number (A-F). \n",
    "\n",
    "def get_letter_grade(int):\n",
    "\n",
    "    if get_letter_grade >= 88:\n",
    "        return ('A')\n",
    "else if get_letter_grade >= 80:\n",
    "        return ('B')\n",
    "else if get_letter_grade >= 67:\n",
    "        return ('C')\n",
    "else if get_letter_grade >= 60:\n",
    "        return ('D')\n",
    "else:\n",
    "        return ('F')"
   ]
  },
  {
   "cell_type": "code",
   "execution_count": 335,
   "id": "9621a032",
   "metadata": {},
   "outputs": [],
   "source": [
    "# 9. Define a function named remove_vowels that accepts a string and returns a string with all the vowels removed.\n",
    "\n",
    "def remove_vowels(word):\n",
    "    for vows in ('aeiouAEIOU'):\n",
    "        word = word.replace(vows,'')\n",
    "    return word"
   ]
  },
  {
   "cell_type": "code",
   "execution_count": 336,
   "id": "6828343d",
   "metadata": {},
   "outputs": [
    {
     "data": {
      "text/plain": [
       "' lv y bby, nd f ts qt lrght'"
      ]
     },
     "execution_count": 336,
     "metadata": {},
     "output_type": "execute_result"
    }
   ],
   "source": [
    "remove_vowels('I love you baby, and if its quite alright')"
   ]
  },
  {
   "cell_type": "code",
   "execution_count": 356,
   "id": "cfe18025",
   "metadata": {},
   "outputs": [],
   "source": [
    "# 10. Define a function named normalize_name. It should accept a string and return a valid python identifier, \n",
    "#that is:\n",
    "    #anything that is not a valid python identifier should be removed\n",
    "    #leading and trailing whitespace should be removed .strip\n",
    "    #everything should be lowercase .lower\n",
    "    #spaces should be replaced with underscores .replace\n",
    "    #for example:\n",
    "     #   Name will become name\n",
    "      #  First Name will become first_name\n",
    "       # % Completed will become completed\n",
    "\n",
    "def normalize_name(string):\n",
    "    string = string.strip().lower()\n",
    "    string = string.replace( ' ','')\n",
    "    newstring = ''\n",
    "    for let in string:\n",
    "        if let.isdigit() or let.isalpha():\n",
    "            newstring += let\n",
    "    return newstring\n",
    "    \n",
    "    "
   ]
  },
  {
   "cell_type": "code",
   "execution_count": 357,
   "id": "fb7f50f1",
   "metadata": {},
   "outputs": [
    {
     "data": {
      "text/plain": [
       "'name'"
      ]
     },
     "execution_count": 357,
     "metadata": {},
     "output_type": "execute_result"
    }
   ],
   "source": [
    "normalize_name('Name')"
   ]
  },
  {
   "cell_type": "code",
   "execution_count": 374,
   "id": "2beff18b",
   "metadata": {},
   "outputs": [
    {
     "data": {
      "text/plain": [
       "'firstname'"
      ]
     },
     "execution_count": 374,
     "metadata": {},
     "output_type": "execute_result"
    }
   ],
   "source": [
    "normalize_name('First Name')"
   ]
  },
  {
   "cell_type": "markdown",
   "id": "32b7ca72",
   "metadata": {},
   "source": []
  },
  {
   "cell_type": "code",
   "execution_count": 373,
   "id": "0b72e10d",
   "metadata": {},
   "outputs": [],
   "source": [
    "# 11. Write a function named cumulative_sum that accepts a list of numbers and returns a list that is the\n",
    "# cumulative sum of the numbers in the list.\n",
    "# cumulative_sum([1, 1, 1]) returns [1, 2, 3]\n",
    "# cumulative_sum([1, 2, 3, 4]) returns [1, 3, 6, 10]\n",
    "\n",
    "def cumulative_sum(slist):\n",
    "    countsum = 0\n",
    "    newlist = []\n",
    "    for x in slist:\n",
    "        countsum += x\n",
    "        newlist.append(countsum)\n",
    "    return newlist\n",
    "\n",
    "assert cumulative_sum([1, 1, 1, 1]) == [1, 2, 3, 4]"
   ]
  },
  {
   "cell_type": "code",
   "execution_count": null,
   "id": "9335589e",
   "metadata": {},
   "outputs": [],
   "source": []
  }
 ],
 "metadata": {
  "kernelspec": {
   "display_name": "Python 3 (ipykernel)",
   "language": "python",
   "name": "python3"
  },
  "language_info": {
   "codemirror_mode": {
    "name": "ipython",
    "version": 3
   },
   "file_extension": ".py",
   "mimetype": "text/x-python",
   "name": "python",
   "nbconvert_exporter": "python",
   "pygments_lexer": "ipython3",
   "version": "3.9.13"
  }
 },
 "nbformat": 4,
 "nbformat_minor": 5
}
