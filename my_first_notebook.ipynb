{
 "cells": [
  {
   "cell_type": "code",
   "execution_count": 1,
   "id": "ce7a95cc",
   "metadata": {},
   "outputs": [
    {
     "name": "stdout",
     "output_type": "stream",
     "text": [
      "My Jupyter Shortcuts\n"
     ]
    }
   ],
   "source": [
    "print(\"My Jupyter Shortcuts\")"
   ]
  },
  {
   "cell_type": "code",
   "execution_count": 8,
   "id": "c267893a",
   "metadata": {},
   "outputs": [
    {
     "name": "stdout",
     "output_type": "stream",
     "text": [
      "Command mode /= edit mode\n",
      "Press [esc] to enter edit mode from command mode\n",
      "Press 'H' to show all shortcuts\n"
     ]
    }
   ],
   "source": [
    "no1 = print(\"Command mode /= edit mode\")\n",
    "no2 = print(\"Press [esc] to enter edit mode from command mode\")\n",
    "no3 = print(\"Press 'H' to show all shortcuts\")"
   ]
  },
  {
   "cell_type": "code",
   "execution_count": null,
   "id": "5e0f5e4b",
   "metadata": {},
   "outputs": [],
   "source": []
  }
 ],
 "metadata": {
  "kernelspec": {
   "display_name": "Python 3 (ipykernel)",
   "language": "python",
   "name": "python3"
  },
  "language_info": {
   "codemirror_mode": {
    "name": "ipython",
    "version": 3
   },
   "file_extension": ".py",
   "mimetype": "text/x-python",
   "name": "python",
   "nbconvert_exporter": "python",
   "pygments_lexer": "ipython3",
   "version": "3.9.13"
  }
 },
 "nbformat": 4,
 "nbformat_minor": 5
}
