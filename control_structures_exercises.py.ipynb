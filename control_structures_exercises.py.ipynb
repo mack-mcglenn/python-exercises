{
 "cells": [
  {
   "cell_type": "code",
   "execution_count": 4,
   "id": "a7154edb",
   "metadata": {},
   "outputs": [
    {
     "name": "stdout",
     "output_type": "stream",
     "text": [
      "What is the day of the week? Tuesday\n",
      "Not Monday\n"
     ]
    }
   ],
   "source": [
    "# 1. Conditional Basics\n",
    "# 1.1 Prompt the user for a day of the week, print out whether the day is Monday or not\n",
    "\n",
    "dotw = input('What is the day of the week? ')\n",
    "if dotw == 'Monday':\n",
    "        print(dotw)\n",
    "else:\n",
    "    print('Not Monday')\n",
    "             \n",
    "             "
   ]
  },
  {
   "cell_type": "code",
   "execution_count": 6,
   "id": "f775ec46",
   "metadata": {},
   "outputs": [
    {
     "name": "stdout",
     "output_type": "stream",
     "text": [
      "What is the day of the week? Friday\n",
      "Es fin de semana, quiero bailar\n"
     ]
    }
   ],
   "source": [
    "# 1.2 Prompt the user for a day of the week, print out whether the day is a weekday\n",
    "#or a weekend\n",
    "\n",
    "dotw = input('What is the day of the week? ')\n",
    "if dotw == 'Friday' or dotw == 'Saturday' or dotw == 'Sunday':\n",
    "    print('Es fin de semana, quiero bailar')\n",
    "else:\n",
    "    print(\"Everybody's workin' for the weekend!\")"
   ]
  },
  {
   "cell_type": "code",
   "execution_count": 10,
   "id": "d3feca73",
   "metadata": {},
   "outputs": [
    {
     "name": "stdout",
     "output_type": "stream",
     "text": [
      "Total hours worked this week:47\n",
      "Total Weekly Pay is :$1262.5 \n"
     ]
    }
   ],
   "source": [
    "# 1.3 Calculate a weekly paycheck, accounting for overtime pay. \n",
    "# Create variables and make up values for: \n",
    "#     -The number of hours worked in one week\n",
    "#     -The hourly rate\n",
    "\n",
    "\n",
    "Hours = int(input('Total hours worked this week:'))\n",
    "Hourly = 25\n",
    "OTR = Hourly * 1.5\n",
    "if Hours <= 40:\n",
    "    TotalPay = Hourly * Hours\n",
    "    print(f'Total Weekly Pay is :${TotalPay} ')\n",
    "else:\n",
    "    OTH = (Hours - 40) \n",
    "    OTP = OTH * OTR\n",
    "    TotalPay = ((Hourly * 40) + OTP)\n",
    "    print(f'Total Weekly Pay is :${TotalPay} ')\n",
    "    # print(TotalPay + (OTH)*(OTR))\n",
    "    \n",
    "        \n",
    "\n"
   ]
  },
  {
   "cell_type": "code",
   "execution_count": 13,
   "id": "7ca41297",
   "metadata": {},
   "outputs": [
    {
     "name": "stdout",
     "output_type": "stream",
     "text": [
      "Total hours worked this week:50\n",
      "1625.0\n"
     ]
    }
   ],
   "source": [
    "Hours = int(input('Total hours worked this week:'))\n",
    "Hourly = 25\n",
    "TotalPay = int(25)* Hours\n",
    "if Hours <= 40:\n",
    "    print(TotalPay)\n",
    "else:\n",
    "    if Hours > 40:\n",
    "        OTH = (Hours - 40) \n",
    "        OTP = OTH * (Hourly * 1.5)\n",
    "        print(TotalPay + (Hours - 40)* (Hourly * 1.5)) \n",
    "        # This is  wrong, but keep for reference"
   ]
  },
  {
   "cell_type": "code",
   "execution_count": 1,
   "id": "37864876",
   "metadata": {},
   "outputs": [
    {
     "name": "stdout",
     "output_type": "stream",
     "text": [
      "5\n",
      "6\n",
      "7\n",
      "8\n",
      "9\n",
      "10\n",
      "11\n",
      "12\n",
      "13\n",
      "14\n",
      "15\n"
     ]
    }
   ],
   "source": [
    "# 2. Loop Basics\n",
    "\n",
    "#     2.1 Create an integer variable i with a value of 5. Create a while loop that runs\n",
    "#     so long as i is less than or equal to 15. Each loop iteration, output the current \n",
    "#     value of i, then increment i by one.\n",
    "\n",
    "#     Your output should look like this:\n",
    "\n",
    "# 5\n",
    "# 6\n",
    "# 7\n",
    "# 8\n",
    "# 9\n",
    "# 10\n",
    "# 11\n",
    "# 12\n",
    "# 13\n",
    "# 14\n",
    "# 15\n",
    "\n",
    "i = 5\n",
    "while i <= 15:\n",
    "    print(i)\n",
    "    i += 1"
   ]
  },
  {
   "cell_type": "code",
   "execution_count": 31,
   "id": "a728d65b",
   "metadata": {},
   "outputs": [
    {
     "name": "stdout",
     "output_type": "stream",
     "text": [
      "0\n",
      "2\n",
      "4\n",
      "6\n",
      "8\n",
      "10\n",
      "12\n",
      "14\n",
      "16\n",
      "18\n",
      "20\n",
      "22\n",
      "24\n",
      "26\n",
      "28\n",
      "30\n",
      "32\n",
      "34\n",
      "36\n",
      "38\n",
      "40\n",
      "42\n",
      "44\n",
      "46\n",
      "48\n",
      "50\n",
      "52\n",
      "54\n",
      "56\n",
      "58\n",
      "60\n",
      "62\n",
      "64\n",
      "66\n",
      "68\n",
      "70\n",
      "72\n",
      "74\n",
      "76\n",
      "78\n",
      "80\n",
      "82\n",
      "84\n",
      "86\n",
      "88\n",
      "90\n",
      "92\n",
      "94\n",
      "96\n",
      "98\n",
      "100\n"
     ]
    }
   ],
   "source": [
    "# 2.2 Create a while loop that will count by 2s starting with 0 and ending at 100. \n",
    "    # Follow each number with a new line.\n",
    "\n",
    "i = 0\n",
    "while i <= 100:\n",
    "    print(i)\n",
    "    i +=2\n",
    "    "
   ]
  },
  {
   "cell_type": "code",
   "execution_count": 34,
   "id": "34338f18",
   "metadata": {},
   "outputs": [
    {
     "name": "stdout",
     "output_type": "stream",
     "text": [
      "100\n",
      "95\n",
      "90\n",
      "85\n",
      "80\n",
      "75\n",
      "70\n",
      "65\n",
      "60\n",
      "55\n",
      "50\n",
      "45\n",
      "40\n",
      "35\n",
      "30\n",
      "25\n",
      "20\n",
      "15\n",
      "10\n",
      "5\n",
      "0\n",
      "-5\n",
      "-10\n"
     ]
    }
   ],
   "source": [
    "# 2.3 Alter your loop to count backwards by 5's from 100 to -10\n",
    "\n",
    "i = 100\n",
    "while i >= -10:\n",
    "    print(i)\n",
    "    i -=5"
   ]
  },
  {
   "cell_type": "code",
   "execution_count": 14,
   "id": "83d631e5",
   "metadata": {},
   "outputs": [
    {
     "name": "stdout",
     "output_type": "stream",
     "text": [
      "2\n",
      "4\n",
      "16\n",
      "256\n",
      "65536\n"
     ]
    }
   ],
   "source": [
    "# 2.4 Create a while loop that starts at 2, and displays the number squared on each line while the number is less than 1,000,000.\n",
    "# Output should equal:\n",
    "#  2\n",
    "#  4\n",
    "#  16\n",
    "#  256\n",
    "#  65536\n",
    "\n",
    "i = 2\n",
    "while i <= 1000000:\n",
    "    print(i)\n",
    "    i = i * i"
   ]
  },
  {
   "cell_type": "code",
   "execution_count": 15,
   "id": "3d328a81",
   "metadata": {},
   "outputs": [
    {
     "name": "stdout",
     "output_type": "stream",
     "text": [
      "100\n",
      "95\n",
      "90\n",
      "85\n",
      "80\n",
      "75\n",
      "70\n",
      "65\n",
      "60\n",
      "55\n",
      "50\n",
      "45\n",
      "40\n",
      "35\n",
      "30\n",
      "25\n",
      "20\n",
      "15\n",
      "10\n",
      "5\n"
     ]
    }
   ],
   "source": [
    "# 2.5 Write a loop that uses print to create the output shown below.\n",
    "# 100\n",
    "# 95\n",
    "# 90\n",
    "# 85\n",
    "# 80\n",
    "# 75\n",
    "# 70\n",
    "# 65\n",
    "# 60\n",
    "# 55\n",
    "# 50\n",
    "# 45\n",
    "# 40\n",
    "# 35\n",
    "# 30\n",
    "# 25\n",
    "# 20\n",
    "# 15\n",
    "# 10\n",
    "# 5\n",
    "\n",
    "\n",
    "for n in range(100, 0, -5):\n",
    "    print(n)"
   ]
  },
  {
   "cell_type": "code",
   "execution_count": 55,
   "id": "75a5eccc",
   "metadata": {},
   "outputs": [
    {
     "name": "stdout",
     "output_type": "stream",
     "text": [
      "7 * 7 = 49\n",
      "14 * 8 = 56\n",
      "21 * 9 = 63\n",
      "28 * 10 = 70\n"
     ]
    }
   ],
   "source": [
    "# 3. For Loops\n",
    "\n",
    "#     3.1 Write some code that prompts the user for a number, \n",
    "#     then shows a multiplication table up through 10 for that number.\n",
    "\n",
    "\n",
    "i = 7\n",
    "for n in range(i, 11):\n",
    "    print(f'{i} * {n} = {n * 7}')\n",
    "    i += 7"
   ]
  },
  {
   "cell_type": "code",
   "execution_count": 16,
   "id": "53412d6d",
   "metadata": {},
   "outputs": [
    {
     "name": "stdout",
     "output_type": "stream",
     "text": [
      "Number of Rows:11\n",
      "1\n",
      "22\n",
      "333\n",
      "4444\n",
      "55555\n",
      "666666\n",
      "7777777\n",
      "88888888\n",
      "999999999\n",
      "10101010101010101010\n",
      "1111111111111111111111\n"
     ]
    }
   ],
   "source": [
    "# 3.2 Create a for loop that uses print to create the output shown below.\n",
    "# 1\n",
    "# 22\n",
    "# 333\n",
    "# 4444\n",
    "# 55555\n",
    "# 666666\n",
    "# 7777777\n",
    "# 88888888\n",
    "# 999999999\n",
    "\n",
    "n = int(input(\"Number of Rows:\"))\n",
    "for i in range(1, n+1):\n",
    "    for x in range(1, i+1):\n",
    "        print(i, end=\"\") \n",
    "    print()\n",
    "        "
   ]
  },
  {
   "cell_type": "code",
   "execution_count": 18,
   "id": "1c2aac31",
   "metadata": {},
   "outputs": [],
   "source": [
    "#Break and Continue\n",
    "# 3.3 Write a program that prompts the user for a positive integer. Next write a loop that\n",
    "#prints out the numbers fromthe number the user entered down to 1.\n",
    "\n",
    "for n in range(i, 10):\n",
    "    if n % 2 ==0:\n",
    "        break"
   ]
  },
  {
   "cell_type": "code",
   "execution_count": 107,
   "id": "3fe8de19",
   "metadata": {},
   "outputs": [
    {
     "data": {
      "text/plain": [
       "4"
      ]
     },
     "execution_count": 107,
     "metadata": {},
     "output_type": "execute_result"
    }
   ],
   "source": [
    "4"
   ]
  }
 ],
 "metadata": {
  "kernelspec": {
   "display_name": "Python 3 (ipykernel)",
   "language": "python",
   "name": "python3"
  },
  "language_info": {
   "codemirror_mode": {
    "name": "ipython",
    "version": 3
   },
   "file_extension": ".py",
   "mimetype": "text/x-python",
   "name": "python",
   "nbconvert_exporter": "python",
   "pygments_lexer": "ipython3",
   "version": "3.9.13"
  }
 },
 "nbformat": 4,
 "nbformat_minor": 5
}
