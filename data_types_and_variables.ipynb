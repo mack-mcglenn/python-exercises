{
 "cells": [
  {
   "cell_type": "code",
   "execution_count": 2,
   "id": "3ec9bd58",
   "metadata": {},
   "outputs": [],
   "source": [
    "#Exercises"
   ]
  },
  {
   "cell_type": "code",
   "execution_count": null,
   "id": "4389fb16",
   "metadata": {},
   "outputs": [],
   "source": [
    "#1. Identify the data type of the following values:"
   ]
  },
  {
   "cell_type": "code",
   "execution_count": 3,
   "id": "049e0e1d",
   "metadata": {},
   "outputs": [
    {
     "data": {
      "text/plain": [
       "float"
      ]
     },
     "execution_count": 3,
     "metadata": {},
     "output_type": "execute_result"
    }
   ],
   "source": [
    "type(99.9)"
   ]
  },
  {
   "cell_type": "code",
   "execution_count": 4,
   "id": "852fa78e",
   "metadata": {},
   "outputs": [
    {
     "data": {
      "text/plain": [
       "str"
      ]
     },
     "execution_count": 4,
     "metadata": {},
     "output_type": "execute_result"
    }
   ],
   "source": [
    "type(\"False\")"
   ]
  },
  {
   "cell_type": "code",
   "execution_count": 5,
   "id": "64dc67b0",
   "metadata": {},
   "outputs": [
    {
     "data": {
      "text/plain": [
       "bool"
      ]
     },
     "execution_count": 5,
     "metadata": {},
     "output_type": "execute_result"
    }
   ],
   "source": [
    "type(False)"
   ]
  },
  {
   "cell_type": "code",
   "execution_count": 6,
   "id": "7c54ca4f",
   "metadata": {},
   "outputs": [
    {
     "data": {
      "text/plain": [
       "str"
      ]
     },
     "execution_count": 6,
     "metadata": {},
     "output_type": "execute_result"
    }
   ],
   "source": [
    "type('0')"
   ]
  },
  {
   "cell_type": "code",
   "execution_count": 7,
   "id": "0a8b30e8",
   "metadata": {},
   "outputs": [
    {
     "data": {
      "text/plain": [
       "int"
      ]
     },
     "execution_count": 7,
     "metadata": {},
     "output_type": "execute_result"
    }
   ],
   "source": [
    "type(0)"
   ]
  },
  {
   "cell_type": "code",
   "execution_count": 8,
   "id": "0fafced1",
   "metadata": {},
   "outputs": [
    {
     "data": {
      "text/plain": [
       "bool"
      ]
     },
     "execution_count": 8,
     "metadata": {},
     "output_type": "execute_result"
    }
   ],
   "source": [
    "type(True)"
   ]
  },
  {
   "cell_type": "code",
   "execution_count": 9,
   "id": "180e9aed",
   "metadata": {},
   "outputs": [
    {
     "data": {
      "text/plain": [
       "str"
      ]
     },
     "execution_count": 9,
     "metadata": {},
     "output_type": "execute_result"
    }
   ],
   "source": [
    "type('True')"
   ]
  },
  {
   "cell_type": "code",
   "execution_count": 10,
   "id": "95fbb280",
   "metadata": {},
   "outputs": [
    {
     "data": {
      "text/plain": [
       "list"
      ]
     },
     "execution_count": 10,
     "metadata": {},
     "output_type": "execute_result"
    }
   ],
   "source": [
    "type([{}])"
   ]
  },
  {
   "cell_type": "code",
   "execution_count": 11,
   "id": "99541090",
   "metadata": {},
   "outputs": [
    {
     "data": {
      "text/plain": [
       "dict"
      ]
     },
     "execution_count": 11,
     "metadata": {},
     "output_type": "execute_result"
    }
   ],
   "source": [
    "type({'a':[]})"
   ]
  },
  {
   "cell_type": "code",
   "execution_count": null,
   "id": "12f84a44",
   "metadata": {},
   "outputs": [],
   "source": [
    "# 2. What data type would best represent the following?\n",
    "\n",
    " #   A term or phrase typed into a search box\n",
    "    A: String\n",
    " #  Whether or not a user is logged in\n",
    "    A: Boolean\n",
    " # A discount amount to apply to a user's shopping cart\n",
    "    A: Float\n",
    " # Whether or not a coupon code is valid\n",
    "    A: Boolean\n",
    " # An email address typed into a registration form\n",
    "    A: String\n",
    " # The price of a product\n",
    "    A: Int or Float\n",
    " # The email addresses collected from a registration form\n",
    "    A: List\n",
    " # Information about applicants to Codeup's data science program\n",
    "    A: Dict\n"
   ]
  },
  {
   "cell_type": "code",
   "execution_count": null,
   "id": "26dcbf6b",
   "metadata": {},
   "outputs": [],
   "source": [
    "# 3. For each of the following code blocks:\n",
    "\n",
    "   # Read the expression and predict the evaluated results\n",
    "   # Execute the expression in a Python REPL."
   ]
  },
  {
   "cell_type": "code",
   "execution_count": 12,
   "id": "dd1167ac",
   "metadata": {},
   "outputs": [
    {
     "ename": "TypeError",
     "evalue": "can only concatenate str (not \"int\") to str",
     "output_type": "error",
     "traceback": [
      "\u001b[0;31m---------------------------------------------------------------------------\u001b[0m",
      "\u001b[0;31mTypeError\u001b[0m                                 Traceback (most recent call last)",
      "\u001b[0;32m/var/folders/3f/gcykrn_x5kj_vxldk0lkx7p00000gn/T/ipykernel_64162/1347333297.py\u001b[0m in \u001b[0;36m<module>\u001b[0;34m\u001b[0m\n\u001b[0;32m----> 1\u001b[0;31m \u001b[0;34m'1'\u001b[0m \u001b[0;34m+\u001b[0m \u001b[0;36m2\u001b[0m\u001b[0;34m\u001b[0m\u001b[0;34m\u001b[0m\u001b[0m\n\u001b[0m\u001b[1;32m      2\u001b[0m \u001b[0;31m# Prediction: error message bc you can't add a string ('1') to an\u001b[0m\u001b[0;34m\u001b[0m\u001b[0;34m\u001b[0m\u001b[0m\n\u001b[1;32m      3\u001b[0m \u001b[0;31m# integer (2)\u001b[0m\u001b[0;34m\u001b[0m\u001b[0;34m\u001b[0m\u001b[0m\n",
      "\u001b[0;31mTypeError\u001b[0m: can only concatenate str (not \"int\") to str"
     ]
    }
   ],
   "source": [
    "'1' + 2\n",
    "# Prediction: error message bc you can't add a string ('1') to an\n",
    "# integer (2)\n"
   ]
  },
  {
   "cell_type": "code",
   "execution_count": 13,
   "id": "3c7fccf1",
   "metadata": {},
   "outputs": [
    {
     "data": {
      "text/plain": [
       "2"
      ]
     },
     "execution_count": 13,
     "metadata": {},
     "output_type": "execute_result"
    }
   ],
   "source": [
    "6 % 4\n",
    "#Not sure, but something integer based"
   ]
  },
  {
   "cell_type": "code",
   "execution_count": 14,
   "id": "f371cb32",
   "metadata": {},
   "outputs": [
    {
     "data": {
      "text/plain": [
       "int"
      ]
     },
     "execution_count": 14,
     "metadata": {},
     "output_type": "execute_result"
    }
   ],
   "source": [
    "type(6 % 4)\n",
    "#Python will reveal what kind of data type '6 % 4' represents (int)"
   ]
  },
  {
   "cell_type": "code",
   "execution_count": 15,
   "id": "b7bf332b",
   "metadata": {},
   "outputs": [
    {
     "data": {
      "text/plain": [
       "type"
      ]
     },
     "execution_count": 15,
     "metadata": {},
     "output_type": "execute_result"
    }
   ],
   "source": [
    "type(type(6 % 4))\n",
    "#Python will return 'int(int)'\n",
    "#Actual: python returns 'type'"
   ]
  },
  {
   "cell_type": "code",
   "execution_count": 16,
   "id": "6cdc83a9",
   "metadata": {},
   "outputs": [
    {
     "ename": "TypeError",
     "evalue": "can only concatenate str (not \"int\") to str",
     "output_type": "error",
     "traceback": [
      "\u001b[0;31m---------------------------------------------------------------------------\u001b[0m",
      "\u001b[0;31mTypeError\u001b[0m                                 Traceback (most recent call last)",
      "\u001b[0;32m/var/folders/3f/gcykrn_x5kj_vxldk0lkx7p00000gn/T/ipykernel_64162/133630764.py\u001b[0m in \u001b[0;36m<module>\u001b[0;34m\u001b[0m\n\u001b[0;32m----> 1\u001b[0;31m \u001b[0;34m' 3 + 4 is'\u001b[0m \u001b[0;34m+\u001b[0m \u001b[0;36m3\u001b[0m \u001b[0;34m+\u001b[0m \u001b[0;36m4\u001b[0m\u001b[0;34m\u001b[0m\u001b[0;34m\u001b[0m\u001b[0m\n\u001b[0m\u001b[1;32m      2\u001b[0m \u001b[0;31m#Python will return TypeError bc I'm asking it to combine a string\u001b[0m\u001b[0;34m\u001b[0m\u001b[0;34m\u001b[0m\u001b[0m\n\u001b[1;32m      3\u001b[0m \u001b[0;31m#and two integers\u001b[0m\u001b[0;34m\u001b[0m\u001b[0;34m\u001b[0m\u001b[0m\n",
      "\u001b[0;31mTypeError\u001b[0m: can only concatenate str (not \"int\") to str"
     ]
    }
   ],
   "source": [
    "' 3 + 4 is' + 3 + 4\n",
    "#Python will return TypeError bc I'm asking it to combine a string\n",
    "#and two integers"
   ]
  },
  {
   "cell_type": "code",
   "execution_count": 17,
   "id": "fc31a2e9",
   "metadata": {},
   "outputs": [
    {
     "data": {
      "text/plain": [
       "False"
      ]
     },
     "execution_count": 17,
     "metadata": {},
     "output_type": "execute_result"
    }
   ],
   "source": [
    "0 < 0\n",
    "#Boolean 'False' because the int 0 is not less than the int 0"
   ]
  },
  {
   "cell_type": "code",
   "execution_count": 18,
   "id": "58fae76f",
   "metadata": {},
   "outputs": [
    {
     "data": {
      "text/plain": [
       "False"
      ]
     },
     "execution_count": 18,
     "metadata": {},
     "output_type": "execute_result"
    }
   ],
   "source": [
    "'False' == False\n",
    "#Python will store the value of the string 'False' as the Boolean\n",
    "#value False"
   ]
  },
  {
   "cell_type": "code",
   "execution_count": 19,
   "id": "743e40c5",
   "metadata": {},
   "outputs": [
    {
     "data": {
      "text/plain": [
       "False"
      ]
     },
     "execution_count": 19,
     "metadata": {},
     "output_type": "execute_result"
    }
   ],
   "source": [
    "True == 'True'\n",
    "#Code will return as boolean value of False bc the Boolean True\n",
    "# already has an inherent definition that can't be reassigned to \n",
    "#a string"
   ]
  },
  {
   "cell_type": "code",
   "execution_count": 20,
   "id": "15974bd7",
   "metadata": {},
   "outputs": [
    {
     "data": {
      "text/plain": [
       "True"
      ]
     },
     "execution_count": 20,
     "metadata": {},
     "output_type": "execute_result"
    }
   ],
   "source": [
    "5 >= -5\n",
    "#Code will return Boolean value of True bc the int 5 is greater than\n",
    "#or equal to -5"
   ]
  },
  {
   "cell_type": "code",
   "execution_count": 21,
   "id": "f0c1f99c",
   "metadata": {},
   "outputs": [
    {
     "data": {
      "text/plain": [
       "True"
      ]
     },
     "execution_count": 21,
     "metadata": {},
     "output_type": "execute_result"
    }
   ],
   "source": [
    "True or \"42\"\n",
    "#Code won't run because no parameters have been set to tell '42'\n",
    "# or Boolean True what to do in these circumstances\n",
    "\n",
    "#I was wrong. Returned as True bc Boolean True has been given an\n",
    "# inherent definition"
   ]
  },
  {
   "cell_type": "code",
   "execution_count": 22,
   "id": "32268f7d",
   "metadata": {},
   "outputs": [
    {
     "data": {
      "text/plain": [
       "1"
      ]
     },
     "execution_count": 22,
     "metadata": {},
     "output_type": "execute_result"
    }
   ],
   "source": [
    "6 % 5\n",
    "#Python will return integer 1"
   ]
  },
  {
   "cell_type": "code",
   "execution_count": 23,
   "id": "2c409890",
   "metadata": {},
   "outputs": [
    {
     "data": {
      "text/plain": [
       "False"
      ]
     },
     "execution_count": 23,
     "metadata": {},
     "output_type": "execute_result"
    }
   ],
   "source": [
    "5 < 4 and 1 == 1\n",
    "#Python will return Boolean value of False bc int 5 is not less\n",
    "#that int 4 and since this is an 'and' statement, both integers\n",
    "#must be true"
   ]
  },
  {
   "cell_type": "code",
   "execution_count": 24,
   "id": "50aeb5e2",
   "metadata": {},
   "outputs": [
    {
     "data": {
      "text/plain": [
       "False"
      ]
     },
     "execution_count": 24,
     "metadata": {},
     "output_type": "execute_result"
    }
   ],
   "source": [
    "'codeup' == 'codeup' and 'codeup' == 'Codeup'\n",
    "#Python will assign both strings of 'Codeup' and 'codeup' to the\n",
    "#value 'codeup'\n",
    "\n",
    "#I was wrong. Code returned Boolean False because == doesn't assign\n",
    "#value, it confirms it. To assign 'Codeup' and 'codeup' as 'codeup',\n",
    "#I would need to use 1 equal sign rather than two"
   ]
  },
  {
   "cell_type": "code",
   "execution_count": 25,
   "id": "72bff2a7",
   "metadata": {},
   "outputs": [
    {
     "data": {
      "text/plain": [
       "True"
      ]
     },
     "execution_count": 25,
     "metadata": {},
     "output_type": "execute_result"
    }
   ],
   "source": [
    "4 >= 0 and 1 != '1'\n",
    "#Will return as True "
   ]
  },
  {
   "cell_type": "code",
   "execution_count": 33,
   "id": "5eeb18ef",
   "metadata": {},
   "outputs": [
    {
     "name": "stdout",
     "output_type": "stream",
     "text": [
      "27\n"
     ]
    }
   ],
   "source": [
    "# 5. You have rented some movies for your kids:\n",
    "\n",
    "#    The Little Mermaid for 3 days\n",
    "#    Brother Bear for 5 days\n",
    "#    Hercules for 1 day\n",
    "\n",
    "#If the daily fee to rent a movie is 3 dollars, how much will you have to pay?\n",
    "rentdays_1 = 3\n",
    "rentdays_2 = 5\n",
    "rentdays_3 = 1\n",
    "allrentdays = (rentdays_1 + rentdays_2 + rentdays_3)\n",
    "rentcost = 3\n",
    "\n",
    "total = (allrentdays *  rentcost)\n",
    "\n",
    "print(total)"
   ]
  },
  {
   "cell_type": "code",
   "execution_count": 38,
   "id": "c9367779",
   "metadata": {},
   "outputs": [
    {
     "name": "stdout",
     "output_type": "stream",
     "text": [
      "$[7420]\n"
     ]
    }
   ],
   "source": [
    "# 6. Suppose you're working as a contractor for 3 companies: Google, Amazon and Facebook.\n",
    "\n",
    "#They pay you the following hourly rates:\n",
    "\n",
    "#    Google: 400 dollars\n",
    "#    Amazon: 380 dollars\n",
    "#    Facebook: 350 dollars\n",
    "\n",
    "# This week you worked: 10 hours for Facebook, 6 hours for Google and 4 hours for Amazon.\n",
    "\n",
    "#How much will you receive in payment for this week? \n",
    "gpay = 400\n",
    "apay = 380\n",
    "fpay = 350\n",
    "\n",
    "totalpay = [(gpay * 6) + (fpay * 10) + (apay * 4)]\n",
    "\n",
    "print(f'${totalpay}')"
   ]
  },
  {
   "cell_type": "code",
   "execution_count": null,
   "id": "debcc7c2",
   "metadata": {},
   "outputs": [],
   "source": [
    "# 7. A student can be enrolled to a class only if the class is not full and the class schedule does not conflict with her current schedule."
   ]
  },
  {
   "cell_type": "code",
   "execution_count": 39,
   "id": "1e459aef",
   "metadata": {},
   "outputs": [
    {
     "name": "stdout",
     "output_type": "stream",
     "text": [
      "Sorry, classes are full\n"
     ]
    }
   ],
   "source": [
    "fullclass = False\n",
    "notfullclass = True\n",
    "\n",
    "can_i_enroll = notfullclass and fullclass\n",
    "\n",
    "if can_i_enroll == True:\n",
    "    print('Can enroll')\n",
    "else:\n",
    "    print('Sorry, classes are full')\n"
   ]
  },
  {
   "cell_type": "code",
   "execution_count": null,
   "id": "1f7a2e58",
   "metadata": {},
   "outputs": [],
   "source": [
    "#8. A product offer can be applied only if people buys more than 2\n",
    "#items, and the offer has not expired. Premium members do not need to buy a specific amount of products."
   ]
  },
  {
   "cell_type": "code",
   "execution_count": 40,
   "id": "02aaf850",
   "metadata": {},
   "outputs": [
    {
     "ename": "NameError",
     "evalue": "name 'twoormore' is not defined",
     "output_type": "error",
     "traceback": [
      "\u001b[0;31m---------------------------------------------------------------------------\u001b[0m",
      "\u001b[0;31mNameError\u001b[0m                                 Traceback (most recent call last)",
      "\u001b[0;32m/var/folders/3f/gcykrn_x5kj_vxldk0lkx7p00000gn/T/ipykernel_64162/1947987985.py\u001b[0m in \u001b[0;36m<module>\u001b[0;34m\u001b[0m\n\u001b[0;32m----> 1\u001b[0;31m \u001b[0mtwoormore\u001b[0m \u001b[0;34m>=\u001b[0m \u001b[0;36m2\u001b[0m\u001b[0;34m\u001b[0m\u001b[0;34m\u001b[0m\u001b[0m\n\u001b[0m\u001b[1;32m      2\u001b[0m \u001b[0mnot_expired\u001b[0m \u001b[0;34m=\u001b[0m \u001b[0;32mTrue\u001b[0m\u001b[0;34m\u001b[0m\u001b[0;34m\u001b[0m\u001b[0m\n\u001b[1;32m      3\u001b[0m \u001b[0mpremium\u001b[0m \u001b[0;34m=\u001b[0m \u001b[0;32mTrue\u001b[0m\u001b[0;34m\u001b[0m\u001b[0;34m\u001b[0m\u001b[0m\n\u001b[1;32m      4\u001b[0m \u001b[0;34m\u001b[0m\u001b[0m\n\u001b[1;32m      5\u001b[0m \u001b[0;32mif\u001b[0m \u001b[0mtwoormore\u001b[0m \u001b[0;34m==\u001b[0m \u001b[0;32mFalse\u001b[0m \u001b[0;32mand\u001b[0m \u001b[0mnot_expired\u001b[0m \u001b[0;32mand\u001b[0m \u001b[0mpremium\u001b[0m\u001b[0;34m:\u001b[0m\u001b[0;34m\u001b[0m\u001b[0;34m\u001b[0m\u001b[0m\n",
      "\u001b[0;31mNameError\u001b[0m: name 'twoormore' is not defined"
     ]
    }
   ],
   "source": [
    "twoormore >= 2\n",
    "not_expired = True\n",
    "premium = True\n",
    "\n",
    "if twoormore == False and not_expired and premium:\n",
    "    print('Congrats! You get the offer')\n",
    "elif twoormore == False and not_expired == True and premium == False:\n",
    "    print('Sorry, no offer for you :(')"
   ]
  }
 ],
 "metadata": {
  "kernelspec": {
   "display_name": "Python 3 (ipykernel)",
   "language": "python",
   "name": "python3"
  },
  "language_info": {
   "codemirror_mode": {
    "name": "ipython",
    "version": 3
   },
   "file_extension": ".py",
   "mimetype": "text/x-python",
   "name": "python",
   "nbconvert_exporter": "python",
   "pygments_lexer": "ipython3",
   "version": "3.9.13"
  }
 },
 "nbformat": 4,
 "nbformat_minor": 5
}
